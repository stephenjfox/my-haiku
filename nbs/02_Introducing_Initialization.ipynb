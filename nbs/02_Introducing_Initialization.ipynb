{
 "cells": [
  {
   "cell_type": "markdown",
   "id": "d028f698-c46f-433f-80cd-3138e7c85c69",
   "metadata": {},
   "source": [
    "# initialization\n",
    "\n",
    "> Add initialization semantically (and rewrite a bunch of what we've already done)"
   ]
  },
  {
   "cell_type": "code",
   "execution_count": null,
   "id": "c7d34985-a214-4a2f-b547-130bb00f59c6",
   "metadata": {},
   "outputs": [],
   "source": [
    "#| default_exp basics_with_init"
   ]
  },
  {
   "cell_type": "markdown",
   "id": "69e88383-c16b-48cc-8837-295e01c501ff",
   "metadata": {},
   "source": [
    "## Current problems to solve\n",
    "- Global state:\n",
    "  - Names aren't unique between modules, let alone instances of the same module\n",
    "  - Our objects are represented by a hand full of ariables that are floating around in the ether\n",
    "- Parameter initialization is a bit of a pain: having lingering variables aloft kinda sucks."
   ]
  },
  {
   "cell_type": "markdown",
   "id": "47d8d2e4-f66c-4a14-95e1-d5778ecc2a53",
   "metadata": {},
   "source": [
    "# Solving initialization\n",
    "\n",
    "We'll turn the object into two functions: one that initializes and another that applies\n",
    "- This is very functional programming:\n",
    "  - `init: () -> T`\n",
    "  - `apply: (T) -> A`\n",
    "\n",
    "We are going to support this with the `Frame`: a mechanism to better control `get_param(...)`'s behavior\n",
    "- If initializing, `get_param(...)` will create the param of the correct `shape` (a new argument) and include it among the current params in the `Frame` before returning our result\n",
    "- Otherwise, the `shape` argument is ignored?\n",
    "\n",
    "---\n",
    "As an aside: we're going to tag in `numpy` because [random is effortful in JAX](https://jax.readthedocs.io/en/latest/notebooks/Common_Gotchas_in_JAX.html#random-numbers)\n",
    "\n",
    "---"
   ]
  },
  {
   "cell_type": "code",
   "execution_count": null,
   "id": "512593e1-04f4-45b2-9f17-a19e507d956f",
   "metadata": {},
   "outputs": [],
   "source": [
    "#| export\n",
    "from typing import NamedTuple, Dict, Callable\n",
    "import numpy as np\n",
    "import jax\n",
    "import jax.numpy as jnp"
   ]
  },
  {
   "cell_type": "code",
   "execution_count": null,
   "id": "70696655-b5e5-4c56-9f60-4aa0a5e86936",
   "metadata": {},
   "outputs": [],
   "source": [
    "#| export\n",
    "frame_stack = []\n",
    "\n",
    "class Frame(NamedTuple):\n",
    "    \"\"\"Tracks mechanery state during a call of a transformed function.\"\"\"\n",
    "    params: Dict[str, jnp.ndarray]\n",
    "    is_initializing: bool = False\n",
    "\n",
    "    @classmethod\n",
    "    def current_frame(cls): return frame_stack[-1]\n",
    "\n",
    "class TransformedFunc(NamedTuple):\n",
    "    init: Callable # [[], jnp.ndarray]\n",
    "    apply: Callable # [[Frame.params], jnp.ndarray]\n",
    "\n",
    "def transform(f) -> TransformedFunc:\n",
    "\n",
    "    def init_f(*args, **kwargs):\n",
    "        frame_stack.append(\n",
    "            Frame({}, is_initializing=True)\n",
    "        )\n",
    "        f(*args, **kwargs) # why do we invoke f? because it's a module?\n",
    "        frame = frame_stack.pop()\n",
    "        return frame.params\n",
    "\n",
    "    def apply_f(params, *args, **kwargs):\n",
    "        frame_stack.append(Frame(params))\n",
    "        outputs = f(*args, **kwargs)\n",
    "        frame_stack.pop()\n",
    "        return outputs\n",
    "\n",
    "    return TransformedFunc(init_f, apply_f)\n",
    "\n",
    "def get_param(identifier, shape=None):\n",
    "    \"\"\"Get parameter according to `identifier`, initializing with `shape` if necessary.\n",
    "\n",
    "    Improvement over the tutorial code: we don't fall to race conditions. I know Pythonistas aren't\n",
    "    generally concerned with that (what with the language being single-threaded and all) but it's a\n",
    "    good thing to note: when you're modifying someting that's supposed to be atomic, you best make\n",
    "    changes while you've got the thing. Never know if you're going to lose your grip.\n",
    "\n",
    "    Args:\n",
    "        identifier:\n",
    "            valid str to identify the parameter\n",
    "        shape (optional):\n",
    "            MUST BE INCLUDED IF YOUR PARAMETER IS NOT YET INITIALIZED.\n",
    "            ignored if the parameter has already been instantiated.\n",
    "    \"\"\"\n",
    "    if (top_frame := Frame.current_frame()).is_initializing:\n",
    "        top_frame.params[identifier] = np.random.normal(size=shape)\n",
    "\n",
    "    return top_frame.params[identifier]"
   ]
  },
  {
   "cell_type": "code",
   "execution_count": null,
   "id": "c69f5f7c-719d-45f5-b7c7-ada0812f6c94",
   "metadata": {},
   "outputs": [
    {
     "data": {
      "text/plain": [
       "{'b': (4,), 'w': (3, 4)}"
      ]
     },
     "execution_count": null,
     "metadata": {},
     "output_type": "execute_result"
    }
   ],
   "source": [
    "\"\"\"Testing the functionality that we've just implemented\"\"\"\n",
    "def parameter_shapes(params):\n",
    "    return jax.tree_util.tree_map(lambda p: p.shape, params)\n",
    "\n",
    "class Linear:\n",
    "    def __init__(self, width): self._width = width\n",
    "    def __call__(self, x):\n",
    "        w = get_param('w', shape=(x.shape[-1], self._width))\n",
    "        b = get_param('b', shape=(self._width,))\n",
    "        return x @ w + b\n",
    "\n",
    "init, apply = transform(Linear(4))\n",
    "\n",
    "data = jnp.ones((2, 3))\n",
    "\n",
    "params = init(data) # this runs Linear.__call__ -> get_param(...) -> frame_stack.top().params[id] = blah\n",
    "parameter_shapes(params)"
   ]
  },
  {
   "cell_type": "code",
   "execution_count": null,
   "id": "ac7f365a-b760-41f2-a557-4986bd261a91",
   "metadata": {},
   "outputs": [
    {
     "data": {
      "text/plain": [
       "Array([[-0.48675254, -0.06542091,  1.583561  ,  1.0822306 ],\n",
       "       [-0.48675254, -0.06542091,  1.583561  ,  1.0822306 ]],      dtype=float32)"
      ]
     },
     "execution_count": null,
     "metadata": {},
     "output_type": "execute_result"
    }
   ],
   "source": [
    "apply(params, data)"
   ]
  },
  {
   "cell_type": "markdown",
   "id": "5d2ac77a-2c2d-4fa4-b141-6f3a1967812a",
   "metadata": {},
   "source": [
    "# Solving unique parameter names: finishing our mini-Haiku\n",
    "So close to done already?! You know it!\n",
    "\n",
    "This should also facilitate nesting modules.\n",
    "\n",
    "1. Give each parameter an unambiguous name.\n",
    "   - Our scheme will be different from - and incompatible with - real Haiku, but it'll be simpler and still correct\n",
    "   - The key idea is assign a name based on the position in the call stack\n",
    "2. We'll now define a `Module` class to solve (1) and more\n",
    "   - each module will have a unique identifier a la `MyClass/instance-number`\n",
    "3. We'll define a decorator for `Module` method called (wait for it...) `module_method`, which gives us better access to the call stack, and associated ability to parameter scope.\n",
    "   - Real Haiku uses `metaclasses` for automatic method wrapping, we're doing this manually\n",
    "     1. For learning\n",
    "     2. For simplicity of implementation i.e. avoiding working at the underbellies of Python"
   ]
  },
  {
   "cell_type": "code",
   "execution_count": null,
   "id": "90b3725f-b8fc-4551-bb6a-62408255c5a8",
   "metadata": {},
   "outputs": [],
   "source": [
    "#| export\n",
    "import dataclasses, collections"
   ]
  },
  {
   "cell_type": "code",
   "execution_count": null,
   "id": "af0c6415-ecf1-43be-a06a-547a996faa2c",
   "metadata": {},
   "outputs": [],
   "source": [
    "#| export\n",
    "@dataclasses.dataclass\n",
    "class Frame:\n",
    "    \"\"\"Tracks what's going on during a call of a transformed function\"\"\"\n",
    "    params: Dict[str, jnp.ndarray]\n",
    "    is_initializing: bool = False\n",
    "\n",
    "    \"\"\"Keeps track of how many modules of each class have been created so far.\n",
    "    Used to assign new modules unique names\"\"\"\n",
    "    module_counts: Dict[str, int] = dataclasses.field(default_factory=collections.Counter)\n",
    "\n",
    "    \"\"\"Keeps track of the entire path to the current module method call.\n",
    "    Module methods will add themselves to this stack when called.\n",
    "    Used to give each parameter a unique name corresponding to stack location.\n",
    "    \"\"\"\n",
    "    call_stack: list = dataclasses.field(default_factory=list)\n",
    "\n",
    "    def create_param_path(self, identifier) -> str:\n",
    "        \"\"\"Creates a unique path for param identified by `identifier`\"\"\"\n",
    "        return \"/\".join([\"~\"] + self.call_stack + [identifier])\n",
    "\n",
    "    def create_unique_module_name(self, module_name: str) -> str:\n",
    "        \"\"\"creates a unique name to identify this module, by attending its instance count to its name\"\"\"\n",
    "        number = self.module_counts[module_name]\n",
    "        self.module_counts[module_name] += 1\n",
    "        # concerns with this state modification:\n",
    "        # 1. it only refers to this Frame, not all some communal global state\n",
    "        # 2. create and updating don't have to be separate, but it can ease some thinking.\n",
    "        return f\"{module_name}_{number}\"\n",
    "\n",
    "    @classmethod\n",
    "    @property\n",
    "    def current(cls):\n",
    "        \"Current frame on the frame stack\"\n",
    "        return frame_stack[-1] if frame_stack else None\n",
    "\n",
    "\"global state for tracking frames\"\n",
    "frame_stack = []"
   ]
  },
  {
   "cell_type": "markdown",
   "id": "1920149d-b94f-4ad6-9fe4-a4ed453cf690",
   "metadata": {},
   "source": [
    "Shmidge of test code"
   ]
  },
  {
   "cell_type": "code",
   "execution_count": null,
   "id": "9149edb8-3238-4ae5-862f-e8f45d3b241b",
   "metadata": {},
   "outputs": [
    {
     "data": {
      "text/plain": [
       "Frame(params={}, is_initializing=False, module_counts=Counter(), call_stack=[])"
      ]
     },
     "execution_count": null,
     "metadata": {},
     "output_type": "execute_result"
    }
   ],
   "source": [
    "assert Frame.current is None\n",
    "\n",
    "test_frame = Frame({})\n",
    "\n",
    "frame_stack.append(test_frame)\n",
    "assert Frame.current is test_frame\n",
    "frame_stack.pop()"
   ]
  },
  {
   "cell_type": "markdown",
   "id": "f1808026-f6d1-476b-9b72-1ef7acaa8280",
   "metadata": {},
   "source": [
    "Now for the Module tidbits"
   ]
  },
  {
   "cell_type": "code",
   "execution_count": null,
   "id": "47ca7377-c22b-47b6-87c5-cc7bc21eb1ef",
   "metadata": {},
   "outputs": [],
   "source": [
    "#| export\n",
    "class Module:\n",
    "    def __init__(self):\n",
    "        \"Assign a unique name for instance of this module for the given `transform` call\"\n",
    "        self._unique_name = Frame.current.create_unique_module_name(\n",
    "            self.__class__.__name__)\n",
    "\n",
    "def module_method(f):\n",
    "    \"\"\"Decorate a Module method\n",
    "\n",
    "    In the real Haiku, the user wouldn't see this, as it's handled by the metaclass\"\"\"\n",
    "    def wrapped(self, *args, **kwargs):\n",
    "        \"\"\"A version of f that gives us some call stack information\"\"\"\n",
    "        module_name = self._unique_name\n",
    "        f_name = f.__name__\n",
    "\n",
    "        call_stack = Frame.current.call_stack\n",
    "        call_stack.append(module_name)\n",
    "        call_stack.append(f_name)\n",
    "        outputs = f(self, *args, **kwargs)\n",
    "        assert call_stack.pop() == f_name\n",
    "        assert call_stack.pop() == module_name\n",
    "        return outputs\n",
    "\n",
    "    return wrapped\n",
    "\n",
    "def get_param(identifier, shape=()):\n",
    "    frame = Frame.current\n",
    "    param_path = frame.create_param_path(identifier)\n",
    "    if frame.is_initializing:\n",
    "        frame.params[param_path] = np.random.normal(size=shape)\n",
    "\n",
    "    return frame.params[param_path]\n",
    "\n",
    "class Linear(Module):\n",
    "    def __init__(self, width):\n",
    "        super().__init__()\n",
    "        self._width = width\n",
    "\n",
    "    @module_method\n",
    "    def __call__(self, x):\n",
    "        # same as before\n",
    "        W = get_param('W', shape=(x.shape[-1], self._width))\n",
    "        b = get_param('b', shape=(self._width,))\n",
    "        return x @ W + b"
   ]
  },
  {
   "cell_type": "markdown",
   "id": "e8ce24c0-d588-444b-8940-3b47c11423ef",
   "metadata": {},
   "source": [
    "## Additional notes\n",
    "We don't need to rewrite `transform` because what we have is adequate as is.\n",
    "\n",
    "Here's some functionality that's missing, but is a part of real Haiku\n",
    "- [ ] control over initialization (we're just doing everything with `np.random.normal` (which really is going away any day now)\n",
    "- [ ] Random Number Generation (\"rng\") handling\n",
    "- [ ] State handling: easiest to implement, because it's conceptually analogous to parameter handling\n",
    "- [ ] most validation and error handling\n",
    "- [ ] freezing parameters once they're created\n",
    "- [ ] more thread-safety\n",
    "- [ ] JAX transforms in `transform`s\n",
    "- [ ] JAX control flow inside of `transform`s\n",
    "- [ ] More thorough documentation\n",
    "\n",
    "Still, the bones are here. So let's take it for a spin"
   ]
  },
  {
   "cell_type": "code",
   "execution_count": null,
   "id": "f3a2e356-c79a-4a54-851f-d4b41bc20d16",
   "metadata": {},
   "outputs": [
    {
     "data": {
      "text/plain": [
       "(Array([[1., 1., 1.],\n",
       "        [1., 1., 1.]], dtype=float32),\n",
       " (2, 3))"
      ]
     },
     "execution_count": null,
     "metadata": {},
     "output_type": "execute_result"
    }
   ],
   "source": [
    "data, data.shape"
   ]
  },
  {
   "cell_type": "code",
   "execution_count": null,
   "id": "bcd81d27-803a-4593-aa85-0eef955b64a4",
   "metadata": {},
   "outputs": [
    {
     "data": {
      "text/plain": [
       "Array([[-0.03975022, -0.9340855 , -1.2082163 , -1.6628195 ],\n",
       "       [-0.03975022, -0.9340855 , -1.2082163 , -1.6628195 ]],      dtype=float32)"
      ]
     },
     "execution_count": null,
     "metadata": {},
     "output_type": "execute_result"
    }
   ],
   "source": [
    "Linear(4)(data)"
   ]
  },
  {
   "cell_type": "code",
   "execution_count": null,
   "id": "3c6cf5ab-3831-44d6-b799-c1dc7119d5c2",
   "metadata": {},
   "outputs": [
    {
     "data": {
      "text/plain": [
       "{'~/Linear_0/__call__/W': (3, 4), '~/Linear_0/__call__/b': (4,)}"
      ]
     },
     "execution_count": null,
     "metadata": {},
     "output_type": "execute_result"
    }
   ],
   "source": [
    "init, apply = transform(lambda x: Linear(4)(x))\n",
    "\n",
    "params = init(data)\n",
    "parameter_shapes(params)"
   ]
  },
  {
   "cell_type": "code",
   "execution_count": null,
   "id": "f3b8d740-b05a-44dc-8859-8b432a9fce95",
   "metadata": {},
   "outputs": [
    {
     "data": {
      "text/plain": [
       "Array([[-0.4722252, -1.3183072, -1.6448145, -5.9238143],\n",
       "       [-0.4722252, -1.3183072, -1.6448145, -5.9238143]], dtype=float32)"
      ]
     },
     "execution_count": null,
     "metadata": {},
     "output_type": "execute_result"
    }
   ],
   "source": [
    "apply(params, data)"
   ]
  },
  {
   "cell_type": "markdown",
   "id": "a6bf9975-82da-4ddb-9c4f-98f95a1ddfa1",
   "metadata": {},
   "source": [
    "What about an MLP?"
   ]
  },
  {
   "cell_type": "code",
   "execution_count": null,
   "id": "981e5d2c-65ea-4fd4-b6d1-1943d059469d",
   "metadata": {},
   "outputs": [],
   "source": [
    "class MLP(Module):\n",
    "\n",
    "  def __init__(self, widths):\n",
    "    super().__init__()\n",
    "    self._widths = widths\n",
    "\n",
    "  @module_method\n",
    "  def __call__(self, x):\n",
    "    for w in self._widths:\n",
    "      out = Linear(w)(x)\n",
    "      x = jax.nn.sigmoid(out)\n",
    "    return out\n"
   ]
  },
  {
   "cell_type": "code",
   "execution_count": null,
   "id": "28924f96-d63d-49dd-9da5-04e0fad2a54e",
   "metadata": {},
   "outputs": [
    {
     "data": {
      "text/plain": [
       "{'~/MLP_0/__call__/Linear_0/__call__/W': (3, 3),\n",
       " '~/MLP_0/__call__/Linear_0/__call__/b': (3,),\n",
       " '~/MLP_0/__call__/Linear_1/__call__/W': (3, 5),\n",
       " '~/MLP_0/__call__/Linear_1/__call__/b': (5,)}"
      ]
     },
     "execution_count": null,
     "metadata": {},
     "output_type": "execute_result"
    }
   ],
   "source": [
    "init, apply = transform(lambda x: MLP([3, 5])(x))\n",
    "parameter_shapes(init(data))"
   ]
  },
  {
   "cell_type": "markdown",
   "id": "84aea07b-8359-45a2-95e0-b6f3123f2fa9",
   "metadata": {},
   "source": [
    "the same module called multiple times holds the same parameters"
   ]
  },
  {
   "cell_type": "code",
   "execution_count": null,
   "id": "82c130fa-4102-4e96-82a5-153e1fcf68b8",
   "metadata": {},
   "outputs": [
    {
     "data": {
      "text/plain": [
       "{'~/ParameterReuseTest_0/__call__/Linear_0/__call__/W': (3, 3),\n",
       " '~/ParameterReuseTest_0/__call__/Linear_0/__call__/b': (3,)}"
      ]
     },
     "execution_count": null,
     "metadata": {},
     "output_type": "execute_result"
    }
   ],
   "source": [
    "class ParameterReuseTest(Module):\n",
    "\n",
    "  @module_method\n",
    "  def __call__(self, x):\n",
    "    f = Linear(x.shape[-1])\n",
    "\n",
    "    x = f(x)\n",
    "    x = jax.nn.relu(x)\n",
    "    return f(x)\n",
    "\n",
    "init, forward = transform(lambda x: ParameterReuseTest()(x))\n",
    "parameter_shapes(init(data))"
   ]
  },
  {
   "cell_type": "code",
   "execution_count": null,
   "id": "7bd2e734-bf6e-4f37-a28f-765399400101",
   "metadata": {},
   "outputs": [],
   "source": [
    "#| hide\n",
    "import nbdev; nbdev.nbdev_export()"
   ]
  }
 ],
 "metadata": {
  "kernelspec": {
   "display_name": "python3",
   "language": "python",
   "name": "python3"
  }
 },
 "nbformat": 4,
 "nbformat_minor": 5
}
