{
 "cells": [
  {
   "attachments": {},
   "cell_type": "markdown",
   "metadata": {},
   "source": [
    "# core\n",
    "\n",
    "> The actual simplified version of DeepMind's Haiku per the [tutorial here](https://dm-haiku.readthedocs.io/en/latest/notebooks/build_your_own_haiku.html)"
   ]
  },
  {
   "cell_type": "code",
   "execution_count": null,
   "metadata": {},
   "outputs": [],
   "source": [
    "#| default_exp core"
   ]
  },
  {
   "cell_type": "code",
   "execution_count": null,
   "metadata": {},
   "outputs": [],
   "source": [
    "#| hide\n",
    "from nbdev.showdoc import *"
   ]
  },
  {
   "attachments": {},
   "cell_type": "markdown",
   "metadata": {},
   "source": [
    "# The Problem to solve\n",
    "We want object-oriented declared modules with parameters as attributes, comme ça,"
   ]
  },
  {
   "cell_type": "code",
   "execution_count": null,
   "metadata": {},
   "outputs": [],
   "source": [
    "class MyBasicModule:\n",
    "\n",
    "    def apply(self, x): return self.w * x"
   ]
  },
  {
   "cell_type": "markdown",
   "metadata": {},
   "source": [
    "and automatically transform them into pure functions, that look like this:"
   ]
  },
  {
   "cell_type": "code",
   "execution_count": null,
   "metadata": {},
   "outputs": [],
   "source": [
    "def my_stateless_apply(params, x): return params['w'] * x"
   ]
  },
  {
   "cell_type": "markdown",
   "metadata": {},
   "source": [
    "### Caveat\n",
    "We'll use `get_param()` instead of `self.*`. It's easier to intercept and, thus, manage\n",
    "\n",
    "Additionally, it would be great if this transform\n",
    "- defined parameter initialization\n",
    "- automatically handed assigning parameters unique names\n",
    "  - automatically resolve the conflict in naming (which is part of the job)"
   ]
  },
  {
   "cell_type": "markdown",
   "metadata": {},
   "source": [
    "## The Plan\n",
    "1. Implement a basic `transform` that converts OO-style functions into pure ones\n",
    "2. Then handle initialization logic\n",
    "3. Finally, handle the plumbing involved when several instances (\"copies\"?) of the same module are used, and different modules use the same name for their parameters\n",
    "   - This issue is non-obvious for an expert, and obvious for the beginner that would have some naive global state management.\n",
    "   - We know better\n",
    "4. Demonstrate effectiveness by defining and training a simple neural network to train just like in regular Haiku"
   ]
  },
  {
   "cell_type": "markdown",
   "metadata": {},
   "source": [
    "# The Basics\n",
    "\n",
    "Define a function that implements the transformation from the stateful style (with help from `get_param(...)`) to a stateless function. We'll call it `transform`. It will wrap `MyBasicModule.apply`\n",
    "\n",
    "See: `01_basics.ipynb` for more."
   ]
  },
  {
   "cell_type": "code",
   "execution_count": null,
   "metadata": {},
   "outputs": [],
   "source": []
  },
  {
   "cell_type": "markdown",
   "metadata": {},
   "source": [
    "# Footer\n",
    "\n",
    "We did it!"
   ]
  },
  {
   "cell_type": "code",
   "execution_count": null,
   "metadata": {},
   "outputs": [],
   "source": [
    "#| hide\n",
    "import nbdev; nbdev.nbdev_export()"
   ]
  }
 ],
 "metadata": {
  "kernelspec": {
   "display_name": "python3",
   "language": "python",
   "name": "python3"
  }
 },
 "nbformat": 4,
 "nbformat_minor": 4
}
