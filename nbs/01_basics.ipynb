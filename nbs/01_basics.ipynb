{
 "cells": [
  {
   "cell_type": "markdown",
   "id": "fb6319e7-49ec-4131-80e4-33489fdc7a60",
   "metadata": {},
   "source": [
    "# basics\n",
    "> implements the basics transform with a naive global state"
   ]
  },
  {
   "cell_type": "code",
   "execution_count": null,
   "id": "23a91c23-f15b-44de-9cb8-e1d80915a743",
   "metadata": {},
   "outputs": [],
   "source": [
    "#| default_exp basics"
   ]
  },
  {
   "cell_type": "code",
   "execution_count": null,
   "id": "f444bcf4-073f-4ea0-8722-00fd30dc8e91",
   "metadata": {},
   "outputs": [],
   "source": [
    "#| export\n",
    "\"\"\"global state for tracking parameters\"\"\"\n",
    "current_params = []"
   ]
  },
  {
   "cell_type": "code",
   "execution_count": null,
   "id": "954fc150-38e0-4627-9b1a-9042ab561d44",
   "metadata": {},
   "outputs": [],
   "source": [
    "#| export\n",
    "def transform(func):\n",
    "\n",
    "    def apply_f(params, *args, **kwargs):\n",
    "        current_params.append(params)\n",
    "        outs = func(*args, **kwargs)\n",
    "        current_params.pop()\n",
    "        return outs\n",
    "    return apply_f"
   ]
  },
  {
   "cell_type": "code",
   "execution_count": null,
   "id": "2942849b-8d71-487d-8863-9a6985308e31",
   "metadata": {},
   "outputs": [],
   "source": [
    "#| export\n",
    "def get_param(identifier):\n",
    "    \"Get a parameter from the global state\"\n",
    "    # NOTE: ONLY WORKS WITH OUR push-pop implementation\n",
    "    return current_params[-1][identifier]"
   ]
  },
  {
   "cell_type": "markdown",
   "id": "d2787768-969f-4766-bfe6-ca9b7d4dfad5",
   "metadata": {},
   "source": [
    "Let's exercise the module a little bit"
   ]
  },
  {
   "cell_type": "code",
   "execution_count": null,
   "id": "2a555aa0-60fc-4ed6-840d-3660336b73e0",
   "metadata": {},
   "outputs": [],
   "source": [
    "\"prework to get back to the state from the top of the tutorial\"\n",
    "def my_stateless_apply(params, x): return params['w'] * x"
   ]
  },
  {
   "cell_type": "code",
   "execution_count": null,
   "id": "6f32b45e-348c-4468-990c-ca70e99e8fa0",
   "metadata": {},
   "outputs": [
    {
     "data": {
      "text/plain": [
       "25"
      ]
     },
     "execution_count": null,
     "metadata": {},
     "output_type": "execute_result"
    }
   ],
   "source": [
    "params = dict(w=5)\n",
    "my_stateless_apply(params, 5)"
   ]
  },
  {
   "cell_type": "code",
   "execution_count": null,
   "id": "e91455ec-34c0-4f9f-8ab5-20854f754c96",
   "metadata": {},
   "outputs": [
    {
     "data": {
      "text/plain": [
       "25"
      ]
     },
     "execution_count": null,
     "metadata": {},
     "output_type": "execute_result"
    }
   ],
   "source": [
    "class MyModule:\n",
    "    def apply(self, x): return get_param('w') * x\n",
    "\n",
    "transform(MyModule().apply)(params, 5)"
   ]
  },
  {
   "cell_type": "markdown",
   "id": "b6ab7d6a-eb2e-473f-aff3-d2ad373bc59e",
   "metadata": {},
   "source": [
    "Will this work with JAX, even though that library chokes when global state is involved?"
   ]
  },
  {
   "cell_type": "code",
   "execution_count": null,
   "id": "9d39618e-563d-49d0-9dd8-7d57cf715ea4",
   "metadata": {},
   "outputs": [],
   "source": [
    "#| export\n",
    "import jax\n",
    "import jax.numpy as jnp\n",
    "\n",
    "def linear(x):\n",
    "    return x @ get_param('w') + get_param('b')"
   ]
  },
  {
   "cell_type": "code",
   "execution_count": null,
   "id": "074fb2f5-f89d-443a-ae4f-b851f3b9a268",
   "metadata": {},
   "outputs": [
    {
     "data": {
      "text/plain": [
       "Array([[4., 4., 4., 4., 4.],\n",
       "       [4., 4., 4., 4., 4.],\n",
       "       [4., 4., 4., 4., 4.],\n",
       "       [4., 4., 4., 4., 4.],\n",
       "       [4., 4., 4., 4., 4.],\n",
       "       [4., 4., 4., 4., 4.],\n",
       "       [4., 4., 4., 4., 4.],\n",
       "       [4., 4., 4., 4., 4.],\n",
       "       [4., 4., 4., 4., 4.],\n",
       "       [4., 4., 4., 4., 4.]], dtype=float32)"
      ]
     },
     "execution_count": null,
     "metadata": {},
     "output_type": "execute_result"
    }
   ],
   "source": [
    "params = dict(w=jnp.ones((3, 5)), b=jnp.ones((5,)))\n",
    "apply = transform(linear)\n",
    "\n",
    "jax.jit(apply)(params, jnp.ones((10, 3)))"
   ]
  },
  {
   "cell_type": "markdown",
   "id": "30daaa98-8d27-47bc-a2c8-f9a948a06ca3",
   "metadata": {},
   "source": [
    "## Why does this work?\n",
    "The global state before and after the function call is the same, and the function's outputs only depend on the inputs.\n",
    "- So it's not global state _in the function_.\n",
    "- It is global state _in the system_.\n",
    "\n",
    "Details matter in programming, ladies and gents.\n",
    "So JAX is happy, because we've respected its boundaries (as is key to any good relationship)"
   ]
  },
  {
   "cell_type": "code",
   "execution_count": null,
   "id": "5cee2d2e-2a95-4572-8ea2-b8a8bf457bce",
   "metadata": {},
   "outputs": [],
   "source": [
    "#| hide\n",
    "import nbdev; nbdev.nbdev_export()"
   ]
  }
 ],
 "metadata": {
  "kernelspec": {
   "display_name": "python3",
   "language": "python",
   "name": "python3"
  }
 },
 "nbformat": 4,
 "nbformat_minor": 5
}
