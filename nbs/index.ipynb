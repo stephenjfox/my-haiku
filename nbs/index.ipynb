{
 "cells": [
  {
   "cell_type": "code",
   "execution_count": null,
   "metadata": {},
   "outputs": [],
   "source": [
    "#| hide\n",
    "from my_haiku.core import *"
   ]
  },
  {
   "cell_type": "markdown",
   "metadata": {},
   "source": [
    "# my-haiku\n",
    "\n",
    "> The end result from completing the Build your own Haiku tutorial (https://dm-haiku.readthedocs.io/en/latest/notebooks/build_your_own_haiku.html)"
   ]
  },
  {
   "cell_type": "markdown",
   "metadata": {},
   "source": [
    "This file will become your README and also the index of your documentation."
   ]
  },
  {
   "cell_type": "markdown",
   "metadata": {},
   "source": [
    "## Install"
   ]
  },
  {
   "cell_type": "markdown",
   "metadata": {},
   "source": [
    "```sh\n",
    "pip install my_haiku\n",
    "```"
   ]
  },
  {
   "cell_type": "markdown",
   "metadata": {},
   "source": [
    "## How to use"
   ]
  },
  {
   "cell_type": "code",
   "execution_count": null,
   "metadata": {},
   "outputs": [],
   "source": [
    "from my_haiku import basics as basics, basics_with_init as haiku_mini"
   ]
  },
  {
   "cell_type": "code",
   "execution_count": null,
   "metadata": {},
   "outputs": [],
   "source": [
    "def model_predict(x):\n",
    "    m = haiku_mini.Linear(4)\n",
    "    return m(x)\n",
    "\n",
    "init, apply = haiku_mini.transform(model_predict)"
   ]
  },
  {
   "cell_type": "code",
   "execution_count": null,
   "metadata": {},
   "outputs": [],
   "source": [
    "from jax import numpy as jnp\n",
    "\n",
    "# initializing the model with just 1's for weights\n",
    "model_params = init(jnp.ones((5, 5), ))"
   ]
  },
  {
   "cell_type": "code",
   "execution_count": null,
   "metadata": {},
   "outputs": [
    {
     "data": {
      "text/plain": [
       "Array([[-21.917768,  -4.325401,  -4.116453,   4.437202]], dtype=float32)"
      ]
     },
     "execution_count": null,
     "metadata": {},
     "output_type": "execute_result"
    }
   ],
   "source": [
    "apply(model_params, jnp.full((1,5), 5))"
   ]
  },
  {
   "cell_type": "code",
   "execution_count": null,
   "metadata": {},
   "outputs": [],
   "source": [
    "model_params = init(\n",
    "    haiku_mini.np.random.normal(size=(5,))\n",
    ")"
   ]
  },
  {
   "cell_type": "code",
   "execution_count": null,
   "metadata": {},
   "outputs": [
    {
     "data": {
      "text/plain": [
       "Array([[21.342882, -1.453893, -5.462   ,  7.012759],\n",
       "       [21.342882, -1.453893, -5.462   ,  7.012759],\n",
       "       [21.342882, -1.453893, -5.462   ,  7.012759],\n",
       "       [21.342882, -1.453893, -5.462   ,  7.012759],\n",
       "       [21.342882, -1.453893, -5.462   ,  7.012759]], dtype=float32)"
      ]
     },
     "execution_count": null,
     "metadata": {},
     "output_type": "execute_result"
    }
   ],
   "source": [
    "apply(model_params, jnp.full((5,5), 5))"
   ]
  },
  {
   "cell_type": "code",
   "execution_count": null,
   "metadata": {},
   "outputs": [],
   "source": []
  }
 ],
 "metadata": {
  "kernelspec": {
   "display_name": "python3",
   "language": "python",
   "name": "python3"
  }
 },
 "nbformat": 4,
 "nbformat_minor": 4
}
